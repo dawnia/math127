{
 "cells": [
  {
   "cell_type": "markdown",
   "metadata": {},
   "source": [
    "### A super-simple way to compute an M table from taxa dissimilarity data. \n",
    "\n",
    "Example data and equation from *Lecture Notes: The Mathematics of Phylogenetics* by Allman and Rhodes, Ch.5."
   ]
  },
  {
   "cell_type": "code",
   "execution_count": 34,
   "metadata": {},
   "outputs": [
    {
     "name": "stdout",
     "output_type": "stream",
     "text": [
      "M of 1 and 2 is -5.07\n",
      "M of 1 and 3 is -3.11\n",
      "M of 1 and 4 is -3.2700000000000005\n",
      "M of 1 and 5 is -2.730000000000001\n",
      "M of 2 and 3 is -2.9399999999999995\n",
      "M of 2 and 4 is -3.25\n",
      "M of 2 and 5 is -2.92\n",
      "M of 3 and 4 is -3.6299999999999994\n",
      "M of 3 and 5 is -4.5\n",
      "M of 4 and 5 is -4.03\n"
     ]
    }
   ],
   "source": [
    "\"\"\" Hard-code example data for each taxon. \n",
    "None stands for the index of itself.\n",
    "Indices implicitly shifted up by 1. \"\"\"\n",
    "dis1 = [None, .31, 1.01, .75, 1.03]\n",
    "dis2 = [.31, None, 1.00, .69, .90]\n",
    "dis3 = [1.01, 1.00, None, .61, .42]\n",
    "dis4 = [.75, .69, .61, None, .37]\n",
    "dis5 = [1.03, .90, .42, .37, None]\n",
    "ex_dis = {1:dis1, 2:dis2, 3:dis3, 4:dis4, 5:dis5}\n",
    "\n",
    "\"\"\" Calculate M for i, j pair. \"\"\"\n",
    "def calc_M(dis, i, j):\n",
    "    N = len(dis)\n",
    "    iSum = 0\n",
    "    for iVal in dis[i]:    # sum all non-None dis values for i \n",
    "        if iVal: iSum += iVal\n",
    "    jSum = 0\n",
    "    for jVal in dis[j]:    # ditto for j\n",
    "        if jVal: jSum += jVal\n",
    "    return (N-2)*dis[i][j-1] - iSum - jSum    # M equation\n",
    "    \n",
    "\"\"\" Print M values for all i,j pairs. \"\"\"    \n",
    "seen = []    # track computed i,j because d(i,j) = d(j,i)\n",
    "for ival in range(1, len(dis)+1):       # for this data, from 1-5\n",
    "    for jval in range(1, len(dis)+1):   # ditto\n",
    "        if ival != jval and ((ival, jval) not in seen or (ival, jval) not in seen):\n",
    "            result = calc_M(ex_dis, ival, jval)\n",
    "            print('M of {} and {} is {}'.format(ival, jval, result))\n",
    "            seen.append((ival, jval))\n",
    "            seen.append((jval, ival))"
   ]
  },
  {
   "cell_type": "code",
   "execution_count": null,
   "metadata": {
    "collapsed": true
   },
   "outputs": [],
   "source": []
  }
 ],
 "metadata": {
  "kernelspec": {
   "display_name": "Python 3",
   "language": "python",
   "name": "python3"
  },
  "language_info": {
   "codemirror_mode": {
    "name": "ipython",
    "version": 3
   },
   "file_extension": ".py",
   "mimetype": "text/x-python",
   "name": "python",
   "nbconvert_exporter": "python",
   "pygments_lexer": "ipython3",
   "version": "3.6.1"
  }
 },
 "nbformat": 4,
 "nbformat_minor": 2
}
